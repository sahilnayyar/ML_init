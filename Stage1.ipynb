{
 "cells": [
  {
   "cell_type": "code",
   "execution_count": 1,
   "outputs": [
    {
     "name": "stdout",
     "output_type": "stream",
     "text": [
      "Intel MKL WARNING: Support of Intel(R) Streaming SIMD Extensions 4.2 (Intel(R) SSE4.2) enabled only processors has been deprecated. Intel oneAPI Math Kernel Library 2025.0 will require Intel(R) Advanced Vector Extensions (Intel(R) AVX) instructions.\n",
      "Intel MKL WARNING: Support of Intel(R) Streaming SIMD Extensions 4.2 (Intel(R) SSE4.2) enabled only processors has been deprecated. Intel oneAPI Math Kernel Library 2025.0 will require Intel(R) Advanced Vector Extensions (Intel(R) AVX) instructions.\n"
     ]
    }
   ],
   "source": [
    "import pandas as pd\n",
    "import numpy as np\n",
    "from sklearn import preprocessing, svm\n",
    "from sklearn.linear_model import LinearRegression\n",
    "from sklearn.model_selection import train_test_split\n",
    "\n",
    "import quandl\n",
    "import math"
   ],
   "metadata": {
    "collapsed": false,
    "ExecuteTime": {
     "end_time": "2023-09-17T05:06:45.316932Z",
     "start_time": "2023-09-17T05:06:43.371935Z"
    }
   },
   "id": "aa4e415e8dc85228"
  },
  {
   "cell_type": "code",
   "execution_count": 2,
   "outputs": [
    {
     "data": {
      "text/plain": "            Adj. Close    HL_PCT  PCT_Change  Adj. Volume\nDate                                                     \n2004-08-19   50.322842  3.712563    0.324968   44659000.0\n2004-08-20   54.322689  0.710922    7.227007   22834300.0\n2004-08-23   54.869377  3.729433   -1.227880   18256100.0\n2004-08-24   52.597363  6.417469   -5.726357   15247300.0\n2004-08-25   53.164113  1.886792    1.183658    9188600.0",
      "text/html": "<div>\n<style scoped>\n    .dataframe tbody tr th:only-of-type {\n        vertical-align: middle;\n    }\n\n    .dataframe tbody tr th {\n        vertical-align: top;\n    }\n\n    .dataframe thead th {\n        text-align: right;\n    }\n</style>\n<table border=\"1\" class=\"dataframe\">\n  <thead>\n    <tr style=\"text-align: right;\">\n      <th></th>\n      <th>Adj. Close</th>\n      <th>HL_PCT</th>\n      <th>PCT_Change</th>\n      <th>Adj. Volume</th>\n    </tr>\n    <tr>\n      <th>Date</th>\n      <th></th>\n      <th></th>\n      <th></th>\n      <th></th>\n    </tr>\n  </thead>\n  <tbody>\n    <tr>\n      <th>2004-08-19</th>\n      <td>50.322842</td>\n      <td>3.712563</td>\n      <td>0.324968</td>\n      <td>44659000.0</td>\n    </tr>\n    <tr>\n      <th>2004-08-20</th>\n      <td>54.322689</td>\n      <td>0.710922</td>\n      <td>7.227007</td>\n      <td>22834300.0</td>\n    </tr>\n    <tr>\n      <th>2004-08-23</th>\n      <td>54.869377</td>\n      <td>3.729433</td>\n      <td>-1.227880</td>\n      <td>18256100.0</td>\n    </tr>\n    <tr>\n      <th>2004-08-24</th>\n      <td>52.597363</td>\n      <td>6.417469</td>\n      <td>-5.726357</td>\n      <td>15247300.0</td>\n    </tr>\n    <tr>\n      <th>2004-08-25</th>\n      <td>53.164113</td>\n      <td>1.886792</td>\n      <td>1.183658</td>\n      <td>9188600.0</td>\n    </tr>\n  </tbody>\n</table>\n</div>"
     },
     "execution_count": 2,
     "metadata": {},
     "output_type": "execute_result"
    }
   ],
   "source": [
    "df = quandl.get('WIKI/GOOGL')\n",
    "\n",
    "df = df[['Adj. Open', 'Adj. Close','Adj. High','Adj. Low','Adj. Volume']]\n",
    "df['HL_PCT'] = (df['Adj. High'] - df['Adj. Close']) / df['Adj. Close'] * 100\n",
    "df['PCT_Change'] = (df['Adj. Close']-df['Adj. Open'])/df['Adj. Open'] * 100\n",
    "\n",
    "df = df[['Adj. Close','HL_PCT', 'PCT_Change', 'Adj. Volume']]\n",
    "\n",
    "df.head()"
   ],
   "metadata": {
    "collapsed": false,
    "ExecuteTime": {
     "end_time": "2023-09-17T05:06:47.575583Z",
     "start_time": "2023-09-17T05:06:46.071352Z"
    }
   },
   "id": "11c5243f1e9ad632"
  },
  {
   "cell_type": "code",
   "execution_count": 3,
   "outputs": [
    {
     "data": {
      "text/plain": "            Adj. Close    HL_PCT  PCT_Change  Adj. Volume       label\nDate                                                                 \n2004-08-19   50.322842  3.712563    0.324968   44659000.0  214.005615\n2004-08-20   54.322689  0.710922    7.227007   22834300.0  210.725489\n2004-08-23   54.869377  3.729433   -1.227880   18256100.0  208.072299\n2004-08-24   52.597363  6.417469   -5.726357   15247300.0  218.288837\n2004-08-25   53.164113  1.886792    1.183658    9188600.0  223.309335",
      "text/html": "<div>\n<style scoped>\n    .dataframe tbody tr th:only-of-type {\n        vertical-align: middle;\n    }\n\n    .dataframe tbody tr th {\n        vertical-align: top;\n    }\n\n    .dataframe thead th {\n        text-align: right;\n    }\n</style>\n<table border=\"1\" class=\"dataframe\">\n  <thead>\n    <tr style=\"text-align: right;\">\n      <th></th>\n      <th>Adj. Close</th>\n      <th>HL_PCT</th>\n      <th>PCT_Change</th>\n      <th>Adj. Volume</th>\n      <th>label</th>\n    </tr>\n    <tr>\n      <th>Date</th>\n      <th></th>\n      <th></th>\n      <th></th>\n      <th></th>\n      <th></th>\n    </tr>\n  </thead>\n  <tbody>\n    <tr>\n      <th>2004-08-19</th>\n      <td>50.322842</td>\n      <td>3.712563</td>\n      <td>0.324968</td>\n      <td>44659000.0</td>\n      <td>214.005615</td>\n    </tr>\n    <tr>\n      <th>2004-08-20</th>\n      <td>54.322689</td>\n      <td>0.710922</td>\n      <td>7.227007</td>\n      <td>22834300.0</td>\n      <td>210.725489</td>\n    </tr>\n    <tr>\n      <th>2004-08-23</th>\n      <td>54.869377</td>\n      <td>3.729433</td>\n      <td>-1.227880</td>\n      <td>18256100.0</td>\n      <td>208.072299</td>\n    </tr>\n    <tr>\n      <th>2004-08-24</th>\n      <td>52.597363</td>\n      <td>6.417469</td>\n      <td>-5.726357</td>\n      <td>15247300.0</td>\n      <td>218.288837</td>\n    </tr>\n    <tr>\n      <th>2004-08-25</th>\n      <td>53.164113</td>\n      <td>1.886792</td>\n      <td>1.183658</td>\n      <td>9188600.0</td>\n      <td>223.309335</td>\n    </tr>\n  </tbody>\n</table>\n</div>"
     },
     "execution_count": 3,
     "metadata": {},
     "output_type": "execute_result"
    }
   ],
   "source": [
    "forecast_col = 'Adj. Close'\n",
    "forecast_out = math.ceil(0.1*len(df)) # 10 percent ahead data is used as forecasted output\n",
    "\n",
    "df['label'] = df[forecast_col].shift(-forecast_out) # Future data of Adj. Close is used as Label Column of the Present value\n",
    "df.dropna(inplace=True)\n",
    "\n",
    "df.head()"
   ],
   "metadata": {
    "collapsed": false,
    "ExecuteTime": {
     "end_time": "2023-09-17T05:06:48.599911Z",
     "start_time": "2023-09-17T05:06:48.588667Z"
    }
   },
   "id": "9179a01c7a7eb3f4"
  },
  {
   "cell_type": "code",
   "execution_count": 4,
   "outputs": [
    {
     "data": {
      "text/plain": "343"
     },
     "execution_count": 4,
     "metadata": {},
     "output_type": "execute_result"
    }
   ],
   "source": [
    "forecast_out # means the value of column label is 343 row value of Column Adj. Close"
   ],
   "metadata": {
    "collapsed": false,
    "ExecuteTime": {
     "end_time": "2023-09-17T05:06:49.642637Z",
     "start_time": "2023-09-17T05:06:49.633051Z"
    }
   },
   "id": "eae29551e7727201"
  },
  {
   "cell_type": "code",
   "execution_count": 5,
   "outputs": [
    {
     "data": {
      "text/plain": "214.00561483153143"
     },
     "execution_count": 5,
     "metadata": {},
     "output_type": "execute_result"
    }
   ],
   "source": [
    "df.iloc[0, 4] # value of 0 row data of column Label"
   ],
   "metadata": {
    "collapsed": false,
    "ExecuteTime": {
     "end_time": "2023-09-17T05:06:50.324132Z",
     "start_time": "2023-09-17T05:06:50.308172Z"
    }
   },
   "id": "b4697922e3216038"
  },
  {
   "cell_type": "code",
   "execution_count": 6,
   "outputs": [
    {
     "data": {
      "text/plain": "214.00561483153143"
     },
     "execution_count": 6,
     "metadata": {},
     "output_type": "execute_result"
    }
   ],
   "source": [
    "df.iloc[343, 0] # value of 343 row data of column Adj. Close\n",
    "# ans for both the columns is same. "
   ],
   "metadata": {
    "collapsed": false,
    "ExecuteTime": {
     "end_time": "2023-09-17T05:06:50.823267Z",
     "start_time": "2023-09-17T05:06:50.813061Z"
    }
   },
   "id": "b5ae4696ca4ec51f"
  },
  {
   "cell_type": "markdown",
   "source": [
    "## APPLY Linear Regression"
   ],
   "metadata": {
    "collapsed": false
   },
   "id": "55ad5ddfce7b4588"
  },
  {
   "cell_type": "code",
   "execution_count": 7,
   "outputs": [
    {
     "name": "stderr",
     "output_type": "stream",
     "text": [
      "/var/folders/kv/fgspkbq1315gy0xwcyk56_z80000gn/T/ipykernel_5469/4271996660.py:1: FutureWarning: In a future version of pandas all arguments of DataFrame.drop except for the argument 'labels' will be keyword-only.\n",
      "  X = df.drop(['label'],1).values\n"
     ]
    },
    {
     "data": {
      "text/plain": "array([[ 5.03228418e+01,  3.71256291e+00,  3.24967503e-01,\n         4.46590000e+07],\n       [ 5.43226889e+01,  7.10922353e-01,  7.22700723e+00,\n         2.28343000e+07],\n       [ 5.48693765e+01,  3.72943327e+00, -1.22788010e+00,\n         1.82561000e+07],\n       ...,\n       [ 8.11980000e+02,  5.00012316e-01,  1.24060197e+00,\n         1.76906900e+06],\n       [ 8.05590000e+02,  7.59691655e-01,  4.68927329e-01,\n         3.09851000e+06],\n       [ 7.80290000e+02,  3.81524818e+00, -3.66790123e+00,\n         5.90960900e+06]])"
     },
     "execution_count": 7,
     "metadata": {},
     "output_type": "execute_result"
    }
   ],
   "source": [
    "X = df.drop(['label'],1).values\n",
    "\n",
    "# X = np.array(df.drop(['label'],1))\n",
    "# df.drop(['label'],1) is Dataframe either use .values to convert it to array or np.array(df.drop(['label'],1))\n",
    "\n",
    "y = df['label'].values\n",
    "X"
   ],
   "metadata": {
    "collapsed": false,
    "ExecuteTime": {
     "end_time": "2023-09-17T05:06:51.882852Z",
     "start_time": "2023-09-17T05:06:51.876504Z"
    }
   },
   "id": "2a640b0f10434d66"
  },
  {
   "cell_type": "code",
   "execution_count": 8,
   "outputs": [
    {
     "data": {
      "text/plain": "array([[-1.57627789,  2.24965149,  0.22714733,  4.29480253],\n       [-1.55512222, -0.33929392,  4.68260107,  1.70252919],\n       [-1.55223073,  2.26420234, -0.77525789,  1.15874413],\n       ...,\n       [ 2.452217  , -0.52120596,  0.8182142 , -0.79953667],\n       [ 2.41841953, -0.2972299 ,  0.3200773 , -0.6416296 ],\n       [ 2.28460484,  2.33821857, -2.35035768, -0.30773557]])"
     },
     "execution_count": 8,
     "metadata": {},
     "output_type": "execute_result"
    }
   ],
   "source": [
    "X = preprocessing.scale(X)\n",
    "X"
   ],
   "metadata": {
    "collapsed": false,
    "ExecuteTime": {
     "end_time": "2023-09-17T05:06:52.501830Z",
     "start_time": "2023-09-17T05:06:52.491163Z"
    }
   },
   "id": "1f781b97c5081bd7"
  },
  {
   "cell_type": "code",
   "execution_count": 9,
   "outputs": [
    {
     "data": {
      "text/plain": "3081"
     },
     "execution_count": 9,
     "metadata": {},
     "output_type": "execute_result"
    }
   ],
   "source": [
    "len(X)"
   ],
   "metadata": {
    "collapsed": false,
    "ExecuteTime": {
     "end_time": "2023-09-17T05:06:53.039715Z",
     "start_time": "2023-09-17T05:06:53.032974Z"
    }
   },
   "id": "21912e34c1e2f3a9"
  },
  {
   "cell_type": "code",
   "execution_count": 10,
   "outputs": [
    {
     "data": {
      "text/plain": "3081"
     },
     "execution_count": 10,
     "metadata": {},
     "output_type": "execute_result"
    }
   ],
   "source": [
    "len(y)"
   ],
   "metadata": {
    "collapsed": false,
    "ExecuteTime": {
     "end_time": "2023-09-17T05:06:53.561283Z",
     "start_time": "2023-09-17T05:06:53.551387Z"
    }
   },
   "id": "2faed63f2642fa97"
  },
  {
   "cell_type": "code",
   "execution_count": 11,
   "outputs": [],
   "source": [
    "#split dataset\n",
    "X_train, X_test, y_train, y_test = train_test_split(X,y,test_size=0.2)"
   ],
   "metadata": {
    "collapsed": false,
    "ExecuteTime": {
     "end_time": "2023-09-17T05:06:53.966993Z",
     "start_time": "2023-09-17T05:06:53.962355Z"
    }
   },
   "id": "db62e97b31337ecb"
  },
  {
   "cell_type": "code",
   "execution_count": 12,
   "outputs": [],
   "source": [
    "# choose model\n",
    "model = LinearRegression()"
   ],
   "metadata": {
    "collapsed": false,
    "ExecuteTime": {
     "end_time": "2023-09-17T05:06:54.498499Z",
     "start_time": "2023-09-17T05:06:54.492021Z"
    }
   },
   "id": "9a8d574c61c09cde"
  },
  {
   "cell_type": "code",
   "execution_count": 13,
   "outputs": [
    {
     "data": {
      "text/plain": "LinearRegression()",
      "text/html": "<style>#sk-container-id-1 {color: black;background-color: white;}#sk-container-id-1 pre{padding: 0;}#sk-container-id-1 div.sk-toggleable {background-color: white;}#sk-container-id-1 label.sk-toggleable__label {cursor: pointer;display: block;width: 100%;margin-bottom: 0;padding: 0.3em;box-sizing: border-box;text-align: center;}#sk-container-id-1 label.sk-toggleable__label-arrow:before {content: \"▸\";float: left;margin-right: 0.25em;color: #696969;}#sk-container-id-1 label.sk-toggleable__label-arrow:hover:before {color: black;}#sk-container-id-1 div.sk-estimator:hover label.sk-toggleable__label-arrow:before {color: black;}#sk-container-id-1 div.sk-toggleable__content {max-height: 0;max-width: 0;overflow: hidden;text-align: left;background-color: #f0f8ff;}#sk-container-id-1 div.sk-toggleable__content pre {margin: 0.2em;color: black;border-radius: 0.25em;background-color: #f0f8ff;}#sk-container-id-1 input.sk-toggleable__control:checked~div.sk-toggleable__content {max-height: 200px;max-width: 100%;overflow: auto;}#sk-container-id-1 input.sk-toggleable__control:checked~label.sk-toggleable__label-arrow:before {content: \"▾\";}#sk-container-id-1 div.sk-estimator input.sk-toggleable__control:checked~label.sk-toggleable__label {background-color: #d4ebff;}#sk-container-id-1 div.sk-label input.sk-toggleable__control:checked~label.sk-toggleable__label {background-color: #d4ebff;}#sk-container-id-1 input.sk-hidden--visually {border: 0;clip: rect(1px 1px 1px 1px);clip: rect(1px, 1px, 1px, 1px);height: 1px;margin: -1px;overflow: hidden;padding: 0;position: absolute;width: 1px;}#sk-container-id-1 div.sk-estimator {font-family: monospace;background-color: #f0f8ff;border: 1px dotted black;border-radius: 0.25em;box-sizing: border-box;margin-bottom: 0.5em;}#sk-container-id-1 div.sk-estimator:hover {background-color: #d4ebff;}#sk-container-id-1 div.sk-parallel-item::after {content: \"\";width: 100%;border-bottom: 1px solid gray;flex-grow: 1;}#sk-container-id-1 div.sk-label:hover label.sk-toggleable__label {background-color: #d4ebff;}#sk-container-id-1 div.sk-serial::before {content: \"\";position: absolute;border-left: 1px solid gray;box-sizing: border-box;top: 0;bottom: 0;left: 50%;z-index: 0;}#sk-container-id-1 div.sk-serial {display: flex;flex-direction: column;align-items: center;background-color: white;padding-right: 0.2em;padding-left: 0.2em;position: relative;}#sk-container-id-1 div.sk-item {position: relative;z-index: 1;}#sk-container-id-1 div.sk-parallel {display: flex;align-items: stretch;justify-content: center;background-color: white;position: relative;}#sk-container-id-1 div.sk-item::before, #sk-container-id-1 div.sk-parallel-item::before {content: \"\";position: absolute;border-left: 1px solid gray;box-sizing: border-box;top: 0;bottom: 0;left: 50%;z-index: -1;}#sk-container-id-1 div.sk-parallel-item {display: flex;flex-direction: column;z-index: 1;position: relative;background-color: white;}#sk-container-id-1 div.sk-parallel-item:first-child::after {align-self: flex-end;width: 50%;}#sk-container-id-1 div.sk-parallel-item:last-child::after {align-self: flex-start;width: 50%;}#sk-container-id-1 div.sk-parallel-item:only-child::after {width: 0;}#sk-container-id-1 div.sk-dashed-wrapped {border: 1px dashed gray;margin: 0 0.4em 0.5em 0.4em;box-sizing: border-box;padding-bottom: 0.4em;background-color: white;}#sk-container-id-1 div.sk-label label {font-family: monospace;font-weight: bold;display: inline-block;line-height: 1.2em;}#sk-container-id-1 div.sk-label-container {text-align: center;}#sk-container-id-1 div.sk-container {/* jupyter's `normalize.less` sets `[hidden] { display: none; }` but bootstrap.min.css set `[hidden] { display: none !important; }` so we also need the `!important` here to be able to override the default hidden behavior on the sphinx rendered scikit-learn.org. See: https://github.com/scikit-learn/scikit-learn/issues/21755 */display: inline-block !important;position: relative;}#sk-container-id-1 div.sk-text-repr-fallback {display: none;}</style><div id=\"sk-container-id-1\" class=\"sk-top-container\"><div class=\"sk-text-repr-fallback\"><pre>LinearRegression()</pre><b>In a Jupyter environment, please rerun this cell to show the HTML representation or trust the notebook. <br />On GitHub, the HTML representation is unable to render, please try loading this page with nbviewer.org.</b></div><div class=\"sk-container\" hidden><div class=\"sk-item\"><div class=\"sk-estimator sk-toggleable\"><input class=\"sk-toggleable__control sk-hidden--visually\" id=\"sk-estimator-id-1\" type=\"checkbox\" checked><label for=\"sk-estimator-id-1\" class=\"sk-toggleable__label sk-toggleable__label-arrow\">LinearRegression</label><div class=\"sk-toggleable__content\"><pre>LinearRegression()</pre></div></div></div></div></div>"
     },
     "execution_count": 13,
     "metadata": {},
     "output_type": "execute_result"
    }
   ],
   "source": [
    "#train model\n",
    "model.fit(X_train, y_train)"
   ],
   "metadata": {
    "collapsed": false,
    "ExecuteTime": {
     "end_time": "2023-09-17T05:06:54.939942Z",
     "start_time": "2023-09-17T05:06:54.914793Z"
    }
   },
   "id": "e5846c31db890447"
  },
  {
   "cell_type": "code",
   "execution_count": 14,
   "outputs": [],
   "source": [
    "# finding accuracy\n",
    "accuracy = model.score(X_train, y_train)"
   ],
   "metadata": {
    "collapsed": false,
    "ExecuteTime": {
     "end_time": "2023-09-17T05:06:55.502700Z",
     "start_time": "2023-09-17T05:06:55.493086Z"
    }
   },
   "id": "6224d381560824bb"
  },
  {
   "cell_type": "code",
   "execution_count": 15,
   "outputs": [
    {
     "data": {
      "text/plain": "0.8794906170451542"
     },
     "execution_count": 15,
     "metadata": {},
     "output_type": "execute_result"
    }
   ],
   "source": [
    "accuracy"
   ],
   "metadata": {
    "collapsed": false,
    "ExecuteTime": {
     "end_time": "2023-09-17T05:06:55.850041Z",
     "start_time": "2023-09-17T05:06:55.844721Z"
    }
   },
   "id": "2e0bf84ffe97a471"
  },
  {
   "cell_type": "code",
   "execution_count": 18,
   "outputs": [
    {
     "data": {
      "text/plain": "0.7162460182290298"
     },
     "execution_count": 18,
     "metadata": {},
     "output_type": "execute_result"
    }
   ],
   "source": [
    "#apply different model\n",
    "\n",
    "model = svm.SVR()\n",
    "model.fit(X_train, y_train)\n",
    "accuracy = model.score(X_train, y_train)\n",
    "accuracy"
   ],
   "metadata": {
    "collapsed": false,
    "ExecuteTime": {
     "end_time": "2023-09-17T05:12:23.943171Z",
     "start_time": "2023-09-17T05:12:22.988567Z"
    }
   },
   "id": "1de4f134d075f0f"
  },
  {
   "cell_type": "code",
   "execution_count": 19,
   "outputs": [
    {
     "data": {
      "text/plain": "0.7162460182290298"
     },
     "execution_count": 19,
     "metadata": {},
     "output_type": "execute_result"
    }
   ],
   "source": [
    "accuracy"
   ],
   "metadata": {
    "collapsed": false,
    "ExecuteTime": {
     "end_time": "2023-09-17T05:12:23.949016Z",
     "start_time": "2023-09-17T05:12:23.947389Z"
    }
   },
   "id": "1046dc963d56740c"
  },
  {
   "cell_type": "code",
   "execution_count": null,
   "outputs": [],
   "source": [],
   "metadata": {
    "collapsed": false
   },
   "id": "e8b80e2c63aa4091"
  }
 ],
 "metadata": {
  "kernelspec": {
   "display_name": "Python 3",
   "language": "python",
   "name": "python3"
  },
  "language_info": {
   "codemirror_mode": {
    "name": "ipython",
    "version": 2
   },
   "file_extension": ".py",
   "mimetype": "text/x-python",
   "name": "python",
   "nbconvert_exporter": "python",
   "pygments_lexer": "ipython2",
   "version": "2.7.6"
  }
 },
 "nbformat": 4,
 "nbformat_minor": 5
}
